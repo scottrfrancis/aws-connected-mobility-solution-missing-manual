{
 "cells": [
  {
   "cell_type": "markdown",
   "metadata": {},
   "source": [
    "# Tools for exploring and working with Elasticsearch\n",
    "\n",
    "First check account, username.\n",
    "\n",
    "*THEN* install libs\n",
    "\n",
    "### Probably only need to do this once"
   ]
  },
  {
   "cell_type": "code",
   "execution_count": null,
   "metadata": {},
   "outputs": [],
   "source": [
    "%%bash\n",
    "\n",
    "aws iam get-user"
   ]
  },
  {
   "cell_type": "code",
   "execution_count": null,
   "metadata": {
    "scrolled": true
   },
   "outputs": [],
   "source": [
    "%%bash\n",
    "\n",
    "pip3 install boto3\n",
    "pip3 install elasticsearch\n",
    "pip3 install requests\n",
    "pip3 install requests-aws4auth"
   ]
  },
  {
   "cell_type": "markdown",
   "metadata": {},
   "source": [
    "# Setup python -- import libs\n",
    "\n",
    "_Generally start here_"
   ]
  },
  {
   "cell_type": "code",
   "execution_count": 21,
   "metadata": {},
   "outputs": [],
   "source": [
    "from elasticsearch import Elasticsearch, RequestsHttpConnection\n",
    "from requests_aws4auth import AWS4Auth\n",
    "import boto3\n",
    "import json\n",
    "import requests"
   ]
  },
  {
   "cell_type": "markdown",
   "metadata": {},
   "source": [
    "## Setup configuration -- endpoint, region, etc."
   ]
  },
  {
   "cell_type": "code",
   "execution_count": null,
   "metadata": {},
   "outputs": [],
   "source": [
    "endpoint = 'search-cms-es-development-oc7dsjk45rha2ulqfir2pbls4u.us-east-1.es.amazonaws.com' # 'search-cms-es-development-5ucfts45z4wmntf3ed4cnuunpu.us-east-1.es.amazonaws.com')\n",
    "region = 'us-east-1'\n",
    "service = 'es'"
   ]
  },
  {
   "cell_type": "markdown",
   "metadata": {},
   "source": [
    "### Tokens time out, so may need to call getClient() frequently -- perhaps in every cell"
   ]
  },
  {
   "cell_type": "code",
   "execution_count": null,
   "metadata": {},
   "outputs": [],
   "source": [
    "def getClient(endpoint, region):\n",
    "    credentials = boto3.Session().get_credentials()\n",
    "    awsauth = AWS4Auth(credentials.access_key, credentials.secret_key, region, service, session_token=credentials.token)\n",
    "    es = Elasticsearch(hosts=[{'host': endpoint, 'port': 443}],\n",
    "            http_auth = awsauth, use_ssl = True, verify_certs = True,\n",
    "            connection_class = RequestsHttpConnection )\n",
    "    return es"
   ]
  },
  {
   "cell_type": "markdown",
   "metadata": {},
   "source": [
    "### Walk the indices"
   ]
  },
  {
   "cell_type": "code",
   "execution_count": 19,
   "metadata": {},
   "outputs": [
    {
     "name": "stdout",
     "output_type": "stream",
     "text": [
      "index - doc count\n",
      "0: latest_telemetry - 4\n",
      "1: trip - 2\n",
      "2: dtc - 2\n",
      "3: .kibana_1 - 0\n",
      "4: cardata - 880923\n",
      "5: anomaly - 1\n",
      "6: event - 0\n",
      "7: devices - 0\n",
      "8: shared_cardata - 4\n"
     ]
    },
    {
     "data": {
      "text/plain": [
       "[None, None, None, None, None, None, None, None, None]"
      ]
     },
     "execution_count": 19,
     "metadata": {},
     "output_type": "execute_result"
    }
   ],
   "source": [
    "es = getClient(endpoint, region)\n",
    "\n",
    "indices = es.cat.indices(format='json')\n",
    "print(\"index - doc count\")\n",
    "[ print(f\"{n}: {i['index']} - {i['docs.count']}\") for (n,i) in enumerate(indices) ] "
   ]
  },
  {
   "cell_type": "markdown",
   "metadata": {},
   "source": [
    "#### Inspect indices"
   ]
  },
  {
   "cell_type": "code",
   "execution_count": 33,
   "metadata": {
    "scrolled": false
   },
   "outputs": [
    {
     "name": "stdout",
     "output_type": "stream",
     "text": [
      "1\n",
      "1\n",
      "{\"messageid\": \"5AZSL56XXKB10000-2020-09-29T15:34:48.048Z\", \"simulationid\": \"vqRX_CnYn\", \"creationtimestamp\": \"2020-09-29T15:34:48.048Z\", \"sendtimestamp\": \"2020-09-29T15:34:48.048Z\", \"vin\": \"5AZSL56XXKB10000\", \"tripid\": \"ZcJUYWgue\", \"driverid\": \"\", \"geolocation\": {\"latitude\": 42.29979393052495, \"longitude\": -83.6988490144884, \"altitude\": 0, \"heading\": 0, \"speed\": 0.0396161169425, \"location\": [-83.6988490144884, 42.29979393052495]}, \"communications\": {\"gsm\": {\"satelites\": \"\", \"fix\": \"\", \"networktype\": \"\", \"mnc\": \"\", \"mcc\": \"\", \"lac\": \"\", \"cid\": \"\"}, \"wifi\": {\"networkid \": \"\"}, \"wired\": {\"networkid \": \"\"}}, \"acceleration\": {\"maxlongitudinal\": {\"axis\": 0, \"value\": 0.01088783}, \"maxlateral\": {\"axis\": 0, \"value\": 0.2442455635230658}}, \"throttle\": {\"max\": 30.665122822671627, \"average\": 0}, \"speed\": {\"max\": 0.0396161169425, \"average\": 0}, \"odometer\": {\"metres\": 4.26, \"ticksfl\": 0, \"ticksfr\": 0, \"ticksrl\": 0, \"ticksrr\": 0}, \"fuel\": 33.770159918496745, \"name\": \"9gSDTBwZR\", \"oiltemp\": 300.57613602390444, \"batt_soc\": \"79.99899828\", \"attributes\": {\"fueltype\": \"Gas\", \"bodytype\": \"Saloon\", \"colorcode\": \"255\", \"model\": \"1\", \"transmissiontype\": \"Auto\", \"make\": \"AMZ\", \"modelyear\": 2017, \"ivitype\": \"LoLine\"}, \"devices\": [{\"softwareversion\": \"2.1\", \"deviceid\": \"ecu-aws-2014-qqcupquib2\"}], \"trouble_codes\": [{\"code\": \"P1734\", \"changed\": \"true\"}], \"anomalies\": [{\"anomaly_score\": \"61.045740713933185\", \"anomaly_id\": \"EViXffxc0\", \"updated_at\": \"2020-09-25T05:19:18Z\", \"anomaly_type\": \"OilTemp\", \"identified_at\": \"2020-09-25T05:19:12Z\", \"sk\": \"A:OilTemp\", \"created_at\": \"2020-09-25T05:19:18Z\", \"pk\": \"5AZSL56XXKB10000\", \"value\": \"311.0457407139332\"}]}\n"
     ]
    }
   ],
   "source": [
    "indexes = [ 'latest_telemetry']\n",
    "es = getClient(endpoint, region)\n",
    "\n",
    "data = [ es.search(index=i, body={'query':{'match_all':{}}}) for i in indexes ]\n",
    "\n",
    "print(len(data))\n",
    "# print(data[0].keys())\n",
    "print(len(data[0]['hits']['hits']))\n",
    "print(json.dumps(data[0]['hits']['hits'][0]['_source']))"
   ]
  },
  {
   "cell_type": "markdown",
   "metadata": {},
   "source": [
    "## Delete data for a VIN"
   ]
  },
  {
   "cell_type": "code",
   "execution_count": null,
   "metadata": {},
   "outputs": [],
   "source": [
    "def getDeviceIdFromVin(es, vin):\n",
    "  def searchIndex(index):\n",
    "    res = es.search(index=index, body={'query':{'match': {'vin':vin}}} )\n",
    "    return  res['hits']['hits'][0]['_source']['devices'][0]['deviceid'] \n",
    "\n",
    "  \n",
    "  try:\n",
    "    deviceid = searchIndex('shared_cardata')\n",
    "  except Exception as e:\n",
    "    try: \n",
    "      deviceid = searchIndex('cardata')\n",
    "    except Exception as e:\n",
    "      deviceid = None\n",
    "  \n",
    "  return deviceid\n",
    "\n",
    "def deleteDocsFromIndex(es, index, key, val):\n",
    "  try:\n",
    "    res = es.search(index=index, body={'query':{'match': {key:val}}} )\n",
    "    [ es.delete(index=index, id=r['_id']) for r in res['hits']['hits'] ]\n",
    "  except Exception as e:\n",
    "    pass\n",
    "\n",
    "def showDocsFromIndex(es, index, key, val):\n",
    "  try:\n",
    "    res = es.search(index=index, body={'query':{'match': {key:val}}} )\n",
    "    [ print(r) for r in res['hits']['hits'] ]\n",
    "  except Exception as e:\n",
    "    pass    "
   ]
  },
  {
   "cell_type": "code",
   "execution_count": null,
   "metadata": {
    "scrolled": false
   },
   "outputs": [],
   "source": [
    "vin = '1AZZV88YXKA10000'\n",
    "\n",
    "es = getClient(endpoint, region)\n",
    "\n",
    "deviceid = getDeviceIdFromVin(es, vin)\n",
    "print(deviceid)\n",
    "\n",
    "[ showDocsFromIndex(es, i['index'], 'deviceid', deviceid) for i in indices ]\n",
    "[ showDocsFromIndex(es, i['index'], 'vin', vin) for i in indices ]\n"
   ]
  },
  {
   "cell_type": "markdown",
   "metadata": {},
   "source": [
    "### and delete"
   ]
  },
  {
   "cell_type": "code",
   "execution_count": null,
   "metadata": {},
   "outputs": [],
   "source": [
    "es = getClient(endpoint, region)\n",
    "\n",
    "[ deleteDocsFromIndex(es, i['index'], 'deviceid', deviceid) for i in indices ]\n",
    "[ deleteDocsFromIndex(es, i['index'], 'vin', vin) for i in indices ]"
   ]
  },
  {
   "cell_type": "code",
   "execution_count": null,
   "metadata": {},
   "outputs": [],
   "source": []
  }
 ],
 "metadata": {
  "kernelspec": {
   "display_name": "Python 3",
   "language": "python",
   "name": "python3"
  },
  "language_info": {
   "codemirror_mode": {
    "name": "ipython",
    "version": 3
   },
   "file_extension": ".py",
   "mimetype": "text/x-python",
   "name": "python",
   "nbconvert_exporter": "python",
   "pygments_lexer": "ipython3",
   "version": "3.6.9"
  }
 },
 "nbformat": 4,
 "nbformat_minor": 2
}
