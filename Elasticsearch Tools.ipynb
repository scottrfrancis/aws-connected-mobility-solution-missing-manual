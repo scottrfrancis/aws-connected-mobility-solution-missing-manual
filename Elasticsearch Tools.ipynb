{
 "cells": [
  {
   "cell_type": "markdown",
   "metadata": {},
   "source": [
    "# Tools for exploring and working with Elasticsearch\n",
    "\n",
    "First check account, username.\n",
    "\n",
    "*THEN* install libs\n",
    "\n",
    "### Probably only need to do this once"
   ]
  },
  {
   "cell_type": "code",
   "execution_count": null,
   "metadata": {},
   "outputs": [],
   "source": [
    "%%bash\n",
    "\n",
    "aws iam get-user"
   ]
  },
  {
   "cell_type": "code",
   "execution_count": 4,
   "metadata": {
    "scrolled": true
   },
   "outputs": [
    {
     "name": "stdout",
     "output_type": "stream",
     "text": [
      "Collecting boto3\n",
      "  Downloading boto3-1.16.6-py2.py3-none-any.whl (129 kB)\n",
      "Collecting botocore<1.20.0,>=1.19.6\n",
      "  Downloading botocore-1.19.6-py2.py3-none-any.whl (6.7 MB)\n",
      "Collecting s3transfer<0.4.0,>=0.3.0\n",
      "  Using cached s3transfer-0.3.3-py2.py3-none-any.whl (69 kB)\n",
      "Collecting jmespath<1.0.0,>=0.7.1\n",
      "  Using cached jmespath-0.10.0-py2.py3-none-any.whl (24 kB)\n",
      "Requirement already satisfied: urllib3<1.26,>=1.25.4; python_version != \"3.4\" in /Users/scofranc/opt/anaconda3/lib/python3.8/site-packages (from botocore<1.20.0,>=1.19.6->boto3) (1.25.9)\n",
      "Requirement already satisfied: python-dateutil<3.0.0,>=2.1 in /Users/scofranc/opt/anaconda3/lib/python3.8/site-packages (from botocore<1.20.0,>=1.19.6->boto3) (2.8.1)\n",
      "Requirement already satisfied: six>=1.5 in /Users/scofranc/opt/anaconda3/lib/python3.8/site-packages (from python-dateutil<3.0.0,>=2.1->botocore<1.20.0,>=1.19.6->boto3) (1.15.0)\n",
      "Installing collected packages: jmespath, botocore, s3transfer, boto3\n",
      "Successfully installed boto3-1.16.6 botocore-1.19.6 jmespath-0.10.0 s3transfer-0.3.3\n",
      "Collecting elasticsearch\n",
      "  Downloading elasticsearch-7.9.1-py2.py3-none-any.whl (219 kB)\n",
      "Requirement already satisfied: certifi in /Users/scofranc/opt/anaconda3/lib/python3.8/site-packages (from elasticsearch) (2020.6.20)\n",
      "Requirement already satisfied: urllib3>=1.21.1 in /Users/scofranc/opt/anaconda3/lib/python3.8/site-packages (from elasticsearch) (1.25.9)\n",
      "Installing collected packages: elasticsearch\n",
      "Successfully installed elasticsearch-7.9.1\n",
      "Requirement already satisfied: requests in /Users/scofranc/opt/anaconda3/lib/python3.8/site-packages (2.24.0)\n",
      "Requirement already satisfied: idna<3,>=2.5 in /Users/scofranc/opt/anaconda3/lib/python3.8/site-packages (from requests) (2.10)\n",
      "Requirement already satisfied: urllib3!=1.25.0,!=1.25.1,<1.26,>=1.21.1 in /Users/scofranc/opt/anaconda3/lib/python3.8/site-packages (from requests) (1.25.9)\n",
      "Requirement already satisfied: certifi>=2017.4.17 in /Users/scofranc/opt/anaconda3/lib/python3.8/site-packages (from requests) (2020.6.20)\n",
      "Requirement already satisfied: chardet<4,>=3.0.2 in /Users/scofranc/opt/anaconda3/lib/python3.8/site-packages (from requests) (3.0.4)\n",
      "Collecting requests-aws4auth\n",
      "  Downloading requests_aws4auth-1.0.1-py2.py3-none-any.whl (29 kB)\n",
      "Requirement already satisfied: requests in /Users/scofranc/opt/anaconda3/lib/python3.8/site-packages (from requests-aws4auth) (2.24.0)\n",
      "Requirement already satisfied: chardet<4,>=3.0.2 in /Users/scofranc/opt/anaconda3/lib/python3.8/site-packages (from requests->requests-aws4auth) (3.0.4)\n",
      "Requirement already satisfied: idna<3,>=2.5 in /Users/scofranc/opt/anaconda3/lib/python3.8/site-packages (from requests->requests-aws4auth) (2.10)\n",
      "Requirement already satisfied: certifi>=2017.4.17 in /Users/scofranc/opt/anaconda3/lib/python3.8/site-packages (from requests->requests-aws4auth) (2020.6.20)\n",
      "Requirement already satisfied: urllib3!=1.25.0,!=1.25.1,<1.26,>=1.21.1 in /Users/scofranc/opt/anaconda3/lib/python3.8/site-packages (from requests->requests-aws4auth) (1.25.9)\n",
      "Installing collected packages: requests-aws4auth\n",
      "Successfully installed requests-aws4auth-1.0.1\n"
     ]
    }
   ],
   "source": [
    "%%bash\n",
    "\n",
    "pip3 install boto3\n",
    "pip3 install elasticsearch\n",
    "pip3 install requests\n",
    "pip3 install requests-aws4auth"
   ]
  },
  {
   "cell_type": "markdown",
   "metadata": {},
   "source": [
    "# Setup python -- import libs\n",
    "\n",
    "_Generally start here_"
   ]
  },
  {
   "cell_type": "code",
   "execution_count": 5,
   "metadata": {},
   "outputs": [],
   "source": [
    "from elasticsearch import Elasticsearch, RequestsHttpConnection\n",
    "from requests_aws4auth import AWS4Auth\n",
    "import boto3\n",
    "import json\n",
    "import requests"
   ]
  },
  {
   "cell_type": "markdown",
   "metadata": {},
   "source": [
    "## Setup configuration -- endpoint, region, etc."
   ]
  },
  {
   "cell_type": "code",
   "execution_count": 3,
   "metadata": {},
   "outputs": [],
   "source": [
    "# no https... e.g.: 'search-cms-es-development-5ucfts45z4wmntf3ed4cnuunpu.us-east-1.es.amazonaws.com')\n",
    "endpoint = 'vpc-cms-es-development-oc7dsjk45rha2ulqfir2pbls4u.us-east-1.es.amazonaws.com'\n",
    "port = 443\n",
    "region = 'us-east-1'\n",
    "service = 'es'"
   ]
  },
  {
   "cell_type": "markdown",
   "metadata": {},
   "source": [
    "# Setup Port Forwarding if needed to access ES through a Bastion Host\n",
    "\n",
    "typically, will use a command like\n",
    "\n",
    "```\n",
    "ssh -i myDemoKP.pem -L 4443:vpc-cms-es-development-5ucfts45z4wmntf3ed4cnuunpu.us-east-1.es.amazonaws.com:443 ubuntu@54.90.108.142\n",
    "```\n",
    "\n",
    "this will forward local port 4443 to 443 on the ES endpoint. Then set host and port appropriately."
   ]
  },
  {
   "cell_type": "code",
   "execution_count": 13,
   "metadata": {},
   "outputs": [],
   "source": [
    "# if forwarding ports... override the endpoint and port  -- ONLY DO THIS IF FORWARDING PORTS\n",
    "endpoint = 'localhost'\n",
    "port = 4443\n",
    "region = 'us-east-1'\n",
    "service = 'es'"
   ]
  },
  {
   "cell_type": "markdown",
   "metadata": {},
   "source": [
    "### Tokens time out, so may need to call getClient() frequently -- perhaps in every cell"
   ]
  },
  {
   "cell_type": "code",
   "execution_count": 14,
   "metadata": {},
   "outputs": [],
   "source": [
    "def getClient(endpoint, region):\n",
    "    credentials = boto3.Session().get_credentials()\n",
    "    awsauth = AWS4Auth(credentials.access_key, credentials.secret_key, region, service, session_token=credentials.token)\n",
    "    es = Elasticsearch(hosts=[{'host': endpoint, 'port': port}],\n",
    "            http_auth = awsauth, use_ssl = True, verify_certs = True,\n",
    "            connection_class = RequestsHttpConnection )\n",
    "    return es"
   ]
  },
  {
   "cell_type": "markdown",
   "metadata": {},
   "source": [
    "### Walk the indices"
   ]
  },
  {
   "cell_type": "code",
   "execution_count": null,
   "metadata": {},
   "outputs": [],
   "source": [
    "es = getClient(endpoint, region)\n",
    "\n",
    "indices = es.cat.indices(format='json')\n",
    "print(\"index - doc count\")\n",
    "[ print(f\"{n}: {i['index']} - {i['docs.count']}\") for (n,i) in enumerate(indices) ] "
   ]
  },
  {
   "cell_type": "markdown",
   "metadata": {},
   "source": [
    "#### Inspect indices"
   ]
  },
  {
   "cell_type": "code",
   "execution_count": null,
   "metadata": {},
   "outputs": [],
   "source": [
    "indexes = [ 'latest_telemetry']\n",
    "es = getClient(endpoint, region)\n",
    "\n",
    "data = [ es.search(index=i, body={'query':{'match_all':{}}}) for i in indexes ]\n",
    "\n",
    "print(len(data))\n",
    "# print(data[0].keys())\n",
    "print(len(data[0]['hits']['hits']))\n",
    "print(json.dumps(data[0]['hits']['hits'][0]['_source']))"
   ]
  },
  {
   "cell_type": "markdown",
   "metadata": {},
   "source": [
    "## Delete data for a VIN"
   ]
  },
  {
   "cell_type": "code",
   "execution_count": null,
   "metadata": {},
   "outputs": [],
   "source": [
    "def getDeviceIdFromVin(es, vin):\n",
    "  def searchIndex(index):\n",
    "    res = es.search(index=index, body={'query':{'match': {'vin':vin}}} )\n",
    "    return  res['hits']['hits'][0]['_source']['devices'][0]['deviceid'] \n",
    "  try:\n",
    "    deviceid = searchIndex('shared_cardata')\n",
    "  except Exception as e:\n",
    "    try: \n",
    "      deviceid = searchIndex('cardata')\n",
    "    except Exception as e:\n",
    "      deviceid = None\n",
    "  return deviceid\n",
    "\n",
    "def deleteDocsFromIndex(es, index, key, val):\n",
    "  try:\n",
    "    res = es.search(index=index, body={'query':{'match': {key:val}}} )\n",
    "    [ es.delete(index=index, id=r['_id']) for r in res['hits']['hits'] ]\n",
    "  except Exception as e:\n",
    "    pass\n",
    "\n",
    "def showDocsFromIndex(es, index, key, val):\n",
    "  try:\n",
    "    res = es.search(index=index, body={'query':{'match': {key:val}}} )\n",
    "    [ print(r) for r in res['hits']['hits'] ]\n",
    "  except Exception as e:\n",
    "    pass    "
   ]
  },
  {
   "cell_type": "code",
   "execution_count": null,
   "metadata": {},
   "outputs": [],
   "source": [
    "vin = '1AZZV88YXKA10000'\n",
    "\n",
    "es = getClient(endpoint, region)\n",
    "\n",
    "deviceid = getDeviceIdFromVin(es, vin)\n",
    "print(deviceid)\n",
    "\n",
    "[ showDocsFromIndex(es, i['index'], 'deviceid', deviceid) for i in indices ]\n",
    "[ showDocsFromIndex(es, i['index'], 'vin', vin) for i in indices ]\n"
   ]
  },
  {
   "cell_type": "markdown",
   "metadata": {},
   "source": [
    "### and delete"
   ]
  },
  {
   "cell_type": "code",
   "execution_count": null,
   "metadata": {},
   "outputs": [],
   "source": [
    "es = getClient(endpoint, region)\n",
    "\n",
    "[ deleteDocsFromIndex(es, i['index'], 'deviceid', deviceid) for i in indices ]\n",
    "[ deleteDocsFromIndex(es, i['index'], 'vin', vin) for i in indices ]"
   ]
  },
  {
   "cell_type": "code",
   "execution_count": null,
   "metadata": {},
   "outputs": [],
   "source": []
  }
 ],
 "metadata": {
  "kernelspec": {
   "display_name": "Python 3",
   "language": "python",
   "name": "python3"
  },
  "language_info": {
   "codemirror_mode": {
    "name": "ipython",
    "version": 3
   },
   "file_extension": ".py",
   "mimetype": "text/x-python",
   "name": "python",
   "nbconvert_exporter": "python",
   "pygments_lexer": "ipython3",
   "version": "3.8.3"
  }
 },
 "nbformat": 4,
 "nbformat_minor": 4
}
